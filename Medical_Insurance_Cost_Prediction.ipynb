{
 "cells": [
  {
   "cell_type": "code",
   "execution_count": 36,
   "id": "f1ee9221",
   "metadata": {},
   "outputs": [],
   "source": [
    "import numpy as np\n",
    "import pandas as pd\n",
    "import seaborn as sns \n",
    "import matplotlib.pyplot as plt\n",
    "import warnings\n",
    "warnings.simplefilter(action='ignore', category=FutureWarning)"
   ]
  },
  {
   "cell_type": "code",
   "execution_count": 37,
   "id": "79b9665f",
   "metadata": {},
   "outputs": [
    {
     "data": {
      "text/html": [
       "<div>\n",
       "<style scoped>\n",
       "    .dataframe tbody tr th:only-of-type {\n",
       "        vertical-align: middle;\n",
       "    }\n",
       "\n",
       "    .dataframe tbody tr th {\n",
       "        vertical-align: top;\n",
       "    }\n",
       "\n",
       "    .dataframe thead th {\n",
       "        text-align: right;\n",
       "    }\n",
       "</style>\n",
       "<table border=\"1\" class=\"dataframe\">\n",
       "  <thead>\n",
       "    <tr style=\"text-align: right;\">\n",
       "      <th></th>\n",
       "      <th>age</th>\n",
       "      <th>sex</th>\n",
       "      <th>bmi</th>\n",
       "      <th>children</th>\n",
       "      <th>smoker</th>\n",
       "      <th>region</th>\n",
       "      <th>charges</th>\n",
       "    </tr>\n",
       "  </thead>\n",
       "  <tbody>\n",
       "    <tr>\n",
       "      <th>0</th>\n",
       "      <td>19</td>\n",
       "      <td>female</td>\n",
       "      <td>27.900</td>\n",
       "      <td>0</td>\n",
       "      <td>yes</td>\n",
       "      <td>southwest</td>\n",
       "      <td>16884.92400</td>\n",
       "    </tr>\n",
       "    <tr>\n",
       "      <th>1</th>\n",
       "      <td>18</td>\n",
       "      <td>male</td>\n",
       "      <td>33.770</td>\n",
       "      <td>1</td>\n",
       "      <td>no</td>\n",
       "      <td>southeast</td>\n",
       "      <td>1725.55230</td>\n",
       "    </tr>\n",
       "    <tr>\n",
       "      <th>2</th>\n",
       "      <td>28</td>\n",
       "      <td>male</td>\n",
       "      <td>33.000</td>\n",
       "      <td>3</td>\n",
       "      <td>no</td>\n",
       "      <td>southeast</td>\n",
       "      <td>4449.46200</td>\n",
       "    </tr>\n",
       "    <tr>\n",
       "      <th>3</th>\n",
       "      <td>33</td>\n",
       "      <td>male</td>\n",
       "      <td>22.705</td>\n",
       "      <td>0</td>\n",
       "      <td>no</td>\n",
       "      <td>northwest</td>\n",
       "      <td>21984.47061</td>\n",
       "    </tr>\n",
       "    <tr>\n",
       "      <th>4</th>\n",
       "      <td>32</td>\n",
       "      <td>male</td>\n",
       "      <td>28.880</td>\n",
       "      <td>0</td>\n",
       "      <td>no</td>\n",
       "      <td>northwest</td>\n",
       "      <td>3866.85520</td>\n",
       "    </tr>\n",
       "  </tbody>\n",
       "</table>\n",
       "</div>"
      ],
      "text/plain": [
       "   age     sex     bmi  children smoker     region      charges\n",
       "0   19  female  27.900         0    yes  southwest  16884.92400\n",
       "1   18    male  33.770         1     no  southeast   1725.55230\n",
       "2   28    male  33.000         3     no  southeast   4449.46200\n",
       "3   33    male  22.705         0     no  northwest  21984.47061\n",
       "4   32    male  28.880         0     no  northwest   3866.85520"
      ]
     },
     "execution_count": 37,
     "metadata": {},
     "output_type": "execute_result"
    }
   ],
   "source": [
    "df = pd.read_csv('insurance.csv')\n",
    "df.head()"
   ]
  },
  {
   "cell_type": "code",
   "execution_count": 38,
   "id": "4a6a1952",
   "metadata": {},
   "outputs": [
    {
     "data": {
      "text/plain": [
       "(1338, 7)"
      ]
     },
     "execution_count": 38,
     "metadata": {},
     "output_type": "execute_result"
    }
   ],
   "source": [
    "df.shape    # Rows - 1338, Columns - 7"
   ]
  },
  {
   "cell_type": "code",
   "execution_count": 39,
   "id": "216398fc",
   "metadata": {},
   "outputs": [
    {
     "data": {
      "text/html": [
       "<div>\n",
       "<style scoped>\n",
       "    .dataframe tbody tr th:only-of-type {\n",
       "        vertical-align: middle;\n",
       "    }\n",
       "\n",
       "    .dataframe tbody tr th {\n",
       "        vertical-align: top;\n",
       "    }\n",
       "\n",
       "    .dataframe thead th {\n",
       "        text-align: right;\n",
       "    }\n",
       "</style>\n",
       "<table border=\"1\" class=\"dataframe\">\n",
       "  <thead>\n",
       "    <tr style=\"text-align: right;\">\n",
       "      <th></th>\n",
       "      <th>age</th>\n",
       "      <th>bmi</th>\n",
       "      <th>children</th>\n",
       "      <th>charges</th>\n",
       "    </tr>\n",
       "  </thead>\n",
       "  <tbody>\n",
       "    <tr>\n",
       "      <th>count</th>\n",
       "      <td>1338.000000</td>\n",
       "      <td>1338.000000</td>\n",
       "      <td>1338.000000</td>\n",
       "      <td>1338.000000</td>\n",
       "    </tr>\n",
       "    <tr>\n",
       "      <th>mean</th>\n",
       "      <td>39.207025</td>\n",
       "      <td>30.663397</td>\n",
       "      <td>1.094918</td>\n",
       "      <td>13270.422265</td>\n",
       "    </tr>\n",
       "    <tr>\n",
       "      <th>std</th>\n",
       "      <td>14.049960</td>\n",
       "      <td>6.098187</td>\n",
       "      <td>1.205493</td>\n",
       "      <td>12110.011237</td>\n",
       "    </tr>\n",
       "    <tr>\n",
       "      <th>min</th>\n",
       "      <td>18.000000</td>\n",
       "      <td>15.960000</td>\n",
       "      <td>0.000000</td>\n",
       "      <td>1121.873900</td>\n",
       "    </tr>\n",
       "    <tr>\n",
       "      <th>25%</th>\n",
       "      <td>27.000000</td>\n",
       "      <td>26.296250</td>\n",
       "      <td>0.000000</td>\n",
       "      <td>4740.287150</td>\n",
       "    </tr>\n",
       "    <tr>\n",
       "      <th>50%</th>\n",
       "      <td>39.000000</td>\n",
       "      <td>30.400000</td>\n",
       "      <td>1.000000</td>\n",
       "      <td>9382.033000</td>\n",
       "    </tr>\n",
       "    <tr>\n",
       "      <th>75%</th>\n",
       "      <td>51.000000</td>\n",
       "      <td>34.693750</td>\n",
       "      <td>2.000000</td>\n",
       "      <td>16639.912515</td>\n",
       "    </tr>\n",
       "    <tr>\n",
       "      <th>max</th>\n",
       "      <td>64.000000</td>\n",
       "      <td>53.130000</td>\n",
       "      <td>5.000000</td>\n",
       "      <td>63770.428010</td>\n",
       "    </tr>\n",
       "  </tbody>\n",
       "</table>\n",
       "</div>"
      ],
      "text/plain": [
       "               age          bmi     children       charges\n",
       "count  1338.000000  1338.000000  1338.000000   1338.000000\n",
       "mean     39.207025    30.663397     1.094918  13270.422265\n",
       "std      14.049960     6.098187     1.205493  12110.011237\n",
       "min      18.000000    15.960000     0.000000   1121.873900\n",
       "25%      27.000000    26.296250     0.000000   4740.287150\n",
       "50%      39.000000    30.400000     1.000000   9382.033000\n",
       "75%      51.000000    34.693750     2.000000  16639.912515\n",
       "max      64.000000    53.130000     5.000000  63770.428010"
      ]
     },
     "execution_count": 39,
     "metadata": {},
     "output_type": "execute_result"
    }
   ],
   "source": [
    "df.describe()"
   ]
  },
  {
   "cell_type": "code",
   "execution_count": 40,
   "id": "d1acd857",
   "metadata": {},
   "outputs": [],
   "source": [
    "df1 = df.copy()"
   ]
  },
  {
   "cell_type": "code",
   "execution_count": 41,
   "id": "07950583",
   "metadata": {},
   "outputs": [
    {
     "data": {
      "text/plain": [
       "age         0\n",
       "sex         0\n",
       "bmi         0\n",
       "children    0\n",
       "smoker      0\n",
       "region      0\n",
       "charges     0\n",
       "dtype: int64"
      ]
     },
     "execution_count": 41,
     "metadata": {},
     "output_type": "execute_result"
    }
   ],
   "source": [
    "df.isnull().sum()    # As we can see there is no null values in the data"
   ]
  },
  {
   "cell_type": "code",
   "execution_count": 42,
   "id": "214df4c2",
   "metadata": {},
   "outputs": [
    {
     "data": {
      "text/plain": [
       "1"
      ]
     },
     "execution_count": 42,
     "metadata": {},
     "output_type": "execute_result"
    }
   ],
   "source": [
    "df.duplicated().sum()"
   ]
  },
  {
   "cell_type": "code",
   "execution_count": 43,
   "id": "93b3deac",
   "metadata": {},
   "outputs": [
    {
     "data": {
      "text/plain": [
       "0"
      ]
     },
     "execution_count": 43,
     "metadata": {},
     "output_type": "execute_result"
    }
   ],
   "source": [
    "df.drop_duplicates(inplace=True)     # Dropping the duplicate values\n",
    "df.duplicated().sum()"
   ]
  },
  {
   "cell_type": "markdown",
   "id": "ec9ff1df",
   "metadata": {},
   "source": [
    "### EDA"
   ]
  },
  {
   "cell_type": "code",
   "execution_count": 44,
   "id": "1713b7fe",
   "metadata": {},
   "outputs": [
    {
     "name": "stdout",
     "output_type": "stream",
     "text": [
      "Index(['age', 'bmi', 'children', 'charges'], dtype='object')\n",
      "Index(['sex', 'smoker', 'region'], dtype='object')\n"
     ]
    }
   ],
   "source": [
    "# Seprating Catagorical And Numerical Columns\n",
    "num_cols = df.dtypes[df.dtypes!=object].index\n",
    "cat_cols = df.dtypes[df.dtypes==object].index\n",
    "print(num_cols)\n",
    "print(cat_cols)"
   ]
  },
  {
   "cell_type": "code",
   "execution_count": 45,
   "id": "556e3686",
   "metadata": {
    "scrolled": true
   },
   "outputs": [
    {
     "data": {
      "image/png": "[encoded data removed]",
      "text/plain": [
       "<Figure size 600x600 with 1 Axes>"
      ]
     },
     "metadata": {},
     "output_type": "display_data"
    }
   ],
   "source": [
    "# distribution of age value\n",
    "plt.figure(figsize=(6,6))\n",
    "sns.distplot(df['age'])\n",
    "plt.title('Age Distribution')\n",
    "plt.show()"
   ]
  },
  {
   "cell_type": "markdown",
   "id": "d562787c",
   "metadata": {},
   "source": [
    "### Inference\n",
    "According to the plot we can clearly see that in the of 21,22,23 people buy more insurance compare to another age group"
   ]
  },
  {
   "cell_type": "code",
   "execution_count": 46,
   "id": "1532e3a1",
   "metadata": {
    "scrolled": true
   },
   "outputs": [
    {
     "data": {
      "image/png": "[encoded data removed]",
      "text/plain": [
       "<Figure size 600x600 with 1 Axes>"
      ]
     },
     "metadata": {},
     "output_type": "display_data"
    }
   ],
   "source": [
    "# Gender column\n",
    "plt.figure(figsize=(6,6))\n",
    "sns.countplot(x='sex', data = df)\n",
    "plt.title('Sex Distribution')\n",
    "plt.show()"
   ]
  },
  {
   "cell_type": "markdown",
   "id": "99341a7f",
   "metadata": {},
   "source": [
    "### Inference\n",
    "According to the data male are the ones who buy more insurance compare to female gender"
   ]
  },
  {
   "cell_type": "code",
   "execution_count": 47,
   "id": "dce9eaa3",
   "metadata": {},
   "outputs": [
    {
     "data": {
      "text/plain": [
       "male      675\n",
       "female    662\n",
       "Name: sex, dtype: int64"
      ]
     },
     "execution_count": 47,
     "metadata": {},
     "output_type": "execute_result"
    }
   ],
   "source": [
    "df['sex'].value_counts()"
   ]
  },
  {
   "cell_type": "code",
   "execution_count": 48,
   "id": "d856aefc",
   "metadata": {},
   "outputs": [
    {
     "data": {
      "image/png": "[encoded data removed]",
      "text/plain": [
       "<Figure size 600x600 with 1 Axes>"
      ]
     },
     "metadata": {},
     "output_type": "display_data"
    }
   ],
   "source": [
    "# bmi distribution\n",
    "plt.figure(figsize=(6,6))\n",
    "sns.distplot(df['bmi'])\n",
    "plt.title('BMI Distribution')\n",
    "plt.show()"
   ]
  },
  {
   "cell_type": "markdown",
   "id": "dc25f3ab",
   "metadata": {},
   "source": [
    "### Inference\n",
    "According to the data BMI is normally distributed"
   ]
  },
  {
   "cell_type": "code",
   "execution_count": 49,
   "id": "4e774c59",
   "metadata": {
    "scrolled": true
   },
   "outputs": [
    {
     "data": {
      "image/png": "[encoded data removed]",
      "text/plain": [
       "<Figure size 600x600 with 1 Axes>"
      ]
     },
     "metadata": {},
     "output_type": "display_data"
    }
   ],
   "source": [
    "# children column\n",
    "plt.figure(figsize=(6,6))\n",
    "sns.countplot(x='children', data=df)\n",
    "plt.title('Children')\n",
    "plt.show()"
   ]
  },
  {
   "cell_type": "markdown",
   "id": "e13fbebe",
   "metadata": {},
   "source": [
    "### Inference\n",
    "According to the data family having no child buy more insurance"
   ]
  },
  {
   "cell_type": "code",
   "execution_count": 50,
   "id": "4ad73021",
   "metadata": {
    "scrolled": false
   },
   "outputs": [
    {
     "data": {
      "image/png": "[encoded data removed]",
      "text/plain": [
       "<Figure size 600x600 with 1 Axes>"
      ]
     },
     "metadata": {},
     "output_type": "display_data"
    }
   ],
   "source": [
    "# smoker column\n",
    "plt.figure(figsize=(6,6))\n",
    "sns.countplot(x='smoker', data=df)\n",
    "plt.title('smoker')\n",
    "plt.show()"
   ]
  },
  {
   "cell_type": "markdown",
   "id": "534e4c81",
   "metadata": {},
   "source": [
    "### Inference\n",
    "According to the data non smoker buy more insurance"
   ]
  },
  {
   "cell_type": "code",
   "execution_count": 32,
   "id": "da7b04d8",
   "metadata": {},
   "outputs": [
    {
     "data": {
      "image/png": "[encoded data removed]",
      "text/plain": [
       "<Figure size 600x600 with 1 Axes>"
      ]
     },
     "metadata": {},
     "output_type": "display_data"
    }
   ],
   "source": [
    "# region column\n",
    "plt.figure(figsize=(6,6))\n",
    "sns.countplot(x='region', data=df)\n",
    "plt.title('region')\n",
    "plt.show()"
   ]
  },
  {
   "cell_type": "markdown",
   "id": "081f8b27",
   "metadata": {},
   "source": [
    "### Correlation"
   ]
  },
  {
   "cell_type": "code",
   "execution_count": 51,
   "id": "4399b97c",
   "metadata": {
    "scrolled": true
   },
   "outputs": [
    {
     "data": {
      "image/png": "[encoded data removed]",
      "text/plain": [
       "<Figure size 2000x2000 with 2 Axes>"
      ]
     },
     "metadata": {},
     "output_type": "display_data"
    }
   ],
   "source": [
    "corr = df[num_cols].corr()\n",
    "\n",
    "plt.figure(figsize=(20,20))\n",
    "sns.heatmap(corr,annot=True)\n",
    "plt.show()"
   ]
  },
  {
   "cell_type": "code",
   "execution_count": 52,
   "id": "f3c26d22",
   "metadata": {
    "scrolled": true
   },
   "outputs": [
    {
     "data": {
      "image/png": "[encoded data removed]",
      "text/plain": [
       "<Figure size 2000x2000 with 2 Axes>"
      ]
     },
     "metadata": {},
     "output_type": "display_data"
    }
   ],
   "source": [
    "plt.figure(figsize=(20,20))\n",
    "sns.heatmap(corr[abs(corr)>=0.7],annot=True)\n",
    "plt.show()"
   ]
  },
  {
   "cell_type": "markdown",
   "id": "e4d4809c",
   "metadata": {},
   "source": [
    "### Inference\n",
    "There is no features which are highly correlated"
   ]
  },
  {
   "cell_type": "markdown",
   "id": "64a529e7",
   "metadata": {},
   "source": [
    "### Outlier Treatment"
   ]
  },
  {
   "cell_type": "code",
   "execution_count": 53,
   "id": "82a0e04f",
   "metadata": {},
   "outputs": [
    {
     "data": {
      "text/html": [
       "<div>\n",
       "<style scoped>\n",
       "    .dataframe tbody tr th:only-of-type {\n",
       "        vertical-align: middle;\n",
       "    }\n",
       "\n",
       "    .dataframe tbody tr th {\n",
       "        vertical-align: top;\n",
       "    }\n",
       "\n",
       "    .dataframe thead th {\n",
       "        text-align: right;\n",
       "    }\n",
       "</style>\n",
       "<table border=\"1\" class=\"dataframe\">\n",
       "  <thead>\n",
       "    <tr style=\"text-align: right;\">\n",
       "      <th></th>\n",
       "      <th>count</th>\n",
       "      <th>mean</th>\n",
       "      <th>std</th>\n",
       "      <th>min</th>\n",
       "      <th>1%</th>\n",
       "      <th>2%</th>\n",
       "      <th>3%</th>\n",
       "      <th>5%</th>\n",
       "      <th>50%</th>\n",
       "      <th>95%</th>\n",
       "      <th>96%</th>\n",
       "      <th>97%</th>\n",
       "      <th>98%</th>\n",
       "      <th>99%</th>\n",
       "      <th>max</th>\n",
       "    </tr>\n",
       "  </thead>\n",
       "  <tbody>\n",
       "    <tr>\n",
       "      <th>age</th>\n",
       "      <td>1337.0</td>\n",
       "      <td>39.222139</td>\n",
       "      <td>14.044333</td>\n",
       "      <td>18.0000</td>\n",
       "      <td>18.00000</td>\n",
       "      <td>18.0000</td>\n",
       "      <td>18.000000</td>\n",
       "      <td>18.00000</td>\n",
       "      <td>39.0000</td>\n",
       "      <td>62.0000</td>\n",
       "      <td>62.000000</td>\n",
       "      <td>63.000000</td>\n",
       "      <td>63.000000</td>\n",
       "      <td>64.000000</td>\n",
       "      <td>64.00000</td>\n",
       "    </tr>\n",
       "    <tr>\n",
       "      <th>bmi</th>\n",
       "      <td>1337.0</td>\n",
       "      <td>30.663452</td>\n",
       "      <td>6.100468</td>\n",
       "      <td>15.9600</td>\n",
       "      <td>17.89420</td>\n",
       "      <td>19.2692</td>\n",
       "      <td>19.957600</td>\n",
       "      <td>21.24800</td>\n",
       "      <td>30.4000</td>\n",
       "      <td>41.1080</td>\n",
       "      <td>41.800000</td>\n",
       "      <td>42.455200</td>\n",
       "      <td>43.920800</td>\n",
       "      <td>46.411200</td>\n",
       "      <td>53.13000</td>\n",
       "    </tr>\n",
       "    <tr>\n",
       "      <th>children</th>\n",
       "      <td>1337.0</td>\n",
       "      <td>1.095737</td>\n",
       "      <td>1.205571</td>\n",
       "      <td>0.0000</td>\n",
       "      <td>0.00000</td>\n",
       "      <td>0.0000</td>\n",
       "      <td>0.000000</td>\n",
       "      <td>0.00000</td>\n",
       "      <td>1.0000</td>\n",
       "      <td>3.0000</td>\n",
       "      <td>3.000000</td>\n",
       "      <td>4.000000</td>\n",
       "      <td>4.000000</td>\n",
       "      <td>5.000000</td>\n",
       "      <td>5.00000</td>\n",
       "    </tr>\n",
       "    <tr>\n",
       "      <th>charges</th>\n",
       "      <td>1337.0</td>\n",
       "      <td>13279.121487</td>\n",
       "      <td>12110.359656</td>\n",
       "      <td>1121.8739</td>\n",
       "      <td>1252.95744</td>\n",
       "      <td>1621.7308</td>\n",
       "      <td>1636.040006</td>\n",
       "      <td>1767.49292</td>\n",
       "      <td>9386.1613</td>\n",
       "      <td>41210.0498</td>\n",
       "      <td>42920.126232</td>\n",
       "      <td>44495.190584</td>\n",
       "      <td>46677.324238</td>\n",
       "      <td>48537.796878</td>\n",
       "      <td>63770.42801</td>\n",
       "    </tr>\n",
       "  </tbody>\n",
       "</table>\n",
       "</div>"
      ],
      "text/plain": [
       "           count          mean           std        min          1%  \\\n",
       "age       1337.0     39.222139     14.044333    18.0000    18.00000   \n",
       "bmi       1337.0     30.663452      6.100468    15.9600    17.89420   \n",
       "children  1337.0      1.095737      1.205571     0.0000     0.00000   \n",
       "charges   1337.0  13279.121487  12110.359656  1121.8739  1252.95744   \n",
       "\n",
       "                 2%           3%          5%        50%         95%  \\\n",
       "age         18.0000    18.000000    18.00000    39.0000     62.0000   \n",
       "bmi         19.2692    19.957600    21.24800    30.4000     41.1080   \n",
       "children     0.0000     0.000000     0.00000     1.0000      3.0000   \n",
       "charges   1621.7308  1636.040006  1767.49292  9386.1613  41210.0498   \n",
       "\n",
       "                   96%           97%           98%           99%          max  \n",
       "age          62.000000     63.000000     63.000000     64.000000     64.00000  \n",
       "bmi          41.800000     42.455200     43.920800     46.411200     53.13000  \n",
       "children      3.000000      4.000000      4.000000      5.000000      5.00000  \n",
       "charges   42920.126232  44495.190584  46677.324238  48537.796878  63770.42801  "
      ]
     },
     "execution_count": 53,
     "metadata": {},
     "output_type": "execute_result"
    }
   ],
   "source": [
    "df.describe(percentiles=[0.01,0.02,0.03,0.05,0.95,0.96,0.97,0.98,0.99]).T"
   ]
  },
  {
   "cell_type": "code",
   "execution_count": 54,
   "id": "27a5f105",
   "metadata": {},
   "outputs": [],
   "source": [
    "def outlier_treatment_le(x):      # le = lower end\n",
    "    x = x.clip(lower=x.quantile(0.01))\n",
    "    return x\n",
    "\n",
    "def outlier_treatment_ue(x):       # ue = upper end\n",
    "    x = x.clip(upper=x.quantile(0.99))\n",
    "    return x"
   ]
  },
  {
   "cell_type": "code",
   "execution_count": 55,
   "id": "00f8efb0",
   "metadata": {},
   "outputs": [],
   "source": [
    "lower_end = ['bmi','charges']\n",
    "upper_end = ['bmi','charges']"
   ]
  },
  {
   "cell_type": "code",
   "execution_count": 56,
   "id": "deac50f0",
   "metadata": {},
   "outputs": [],
   "source": [
    "df[lower_end] = df[lower_end].apply(outlier_treatment_le)\n",
    "df[upper_end] = df[upper_end].apply(outlier_treatment_ue)"
   ]
  },
  {
   "cell_type": "code",
   "execution_count": 57,
   "id": "5906f181",
   "metadata": {},
   "outputs": [
    {
     "data": {
      "text/html": [
       "<div>\n",
       "<style scoped>\n",
       "    .dataframe tbody tr th:only-of-type {\n",
       "        vertical-align: middle;\n",
       "    }\n",
       "\n",
       "    .dataframe tbody tr th {\n",
       "        vertical-align: top;\n",
       "    }\n",
       "\n",
       "    .dataframe thead th {\n",
       "        text-align: right;\n",
       "    }\n",
       "</style>\n",
       "<table border=\"1\" class=\"dataframe\">\n",
       "  <thead>\n",
       "    <tr style=\"text-align: right;\">\n",
       "      <th></th>\n",
       "      <th>count</th>\n",
       "      <th>mean</th>\n",
       "      <th>std</th>\n",
       "      <th>min</th>\n",
       "      <th>1%</th>\n",
       "      <th>2%</th>\n",
       "      <th>3%</th>\n",
       "      <th>5%</th>\n",
       "      <th>50%</th>\n",
       "      <th>95%</th>\n",
       "      <th>96%</th>\n",
       "      <th>97%</th>\n",
       "      <th>98%</th>\n",
       "      <th>99%</th>\n",
       "      <th>max</th>\n",
       "    </tr>\n",
       "  </thead>\n",
       "  <tbody>\n",
       "    <tr>\n",
       "      <th>age</th>\n",
       "      <td>1337.0</td>\n",
       "      <td>39.222139</td>\n",
       "      <td>14.044333</td>\n",
       "      <td>18.00000</td>\n",
       "      <td>18.000000</td>\n",
       "      <td>18.0000</td>\n",
       "      <td>18.000000</td>\n",
       "      <td>18.00000</td>\n",
       "      <td>39.0000</td>\n",
       "      <td>62.0000</td>\n",
       "      <td>62.000000</td>\n",
       "      <td>63.000000</td>\n",
       "      <td>63.000000</td>\n",
       "      <td>64.000000</td>\n",
       "      <td>64.000000</td>\n",
       "    </tr>\n",
       "    <tr>\n",
       "      <th>bmi</th>\n",
       "      <td>1337.0</td>\n",
       "      <td>30.649787</td>\n",
       "      <td>6.027430</td>\n",
       "      <td>17.89420</td>\n",
       "      <td>17.916088</td>\n",
       "      <td>19.2692</td>\n",
       "      <td>19.957600</td>\n",
       "      <td>21.24800</td>\n",
       "      <td>30.4000</td>\n",
       "      <td>41.1080</td>\n",
       "      <td>41.800000</td>\n",
       "      <td>42.455200</td>\n",
       "      <td>43.920800</td>\n",
       "      <td>46.335168</td>\n",
       "      <td>46.411200</td>\n",
       "    </tr>\n",
       "    <tr>\n",
       "      <th>children</th>\n",
       "      <td>1337.0</td>\n",
       "      <td>1.095737</td>\n",
       "      <td>1.205571</td>\n",
       "      <td>0.00000</td>\n",
       "      <td>0.000000</td>\n",
       "      <td>0.0000</td>\n",
       "      <td>0.000000</td>\n",
       "      <td>0.00000</td>\n",
       "      <td>1.0000</td>\n",
       "      <td>3.0000</td>\n",
       "      <td>3.000000</td>\n",
       "      <td>4.000000</td>\n",
       "      <td>4.000000</td>\n",
       "      <td>5.000000</td>\n",
       "      <td>5.000000</td>\n",
       "    </tr>\n",
       "    <tr>\n",
       "      <th>charges</th>\n",
       "      <td>1337.0</td>\n",
       "      <td>13230.249307</td>\n",
       "      <td>11940.700792</td>\n",
       "      <td>1252.95744</td>\n",
       "      <td>1253.309722</td>\n",
       "      <td>1621.7308</td>\n",
       "      <td>1636.040006</td>\n",
       "      <td>1767.49292</td>\n",
       "      <td>9386.1613</td>\n",
       "      <td>41210.0498</td>\n",
       "      <td>42920.126232</td>\n",
       "      <td>44495.190584</td>\n",
       "      <td>46677.324238</td>\n",
       "      <td>48530.512736</td>\n",
       "      <td>48537.796878</td>\n",
       "    </tr>\n",
       "  </tbody>\n",
       "</table>\n",
       "</div>"
      ],
      "text/plain": [
       "           count          mean           std         min           1%  \\\n",
       "age       1337.0     39.222139     14.044333    18.00000    18.000000   \n",
       "bmi       1337.0     30.649787      6.027430    17.89420    17.916088   \n",
       "children  1337.0      1.095737      1.205571     0.00000     0.000000   \n",
       "charges   1337.0  13230.249307  11940.700792  1252.95744  1253.309722   \n",
       "\n",
       "                 2%           3%          5%        50%         95%  \\\n",
       "age         18.0000    18.000000    18.00000    39.0000     62.0000   \n",
       "bmi         19.2692    19.957600    21.24800    30.4000     41.1080   \n",
       "children     0.0000     0.000000     0.00000     1.0000      3.0000   \n",
       "charges   1621.7308  1636.040006  1767.49292  9386.1613  41210.0498   \n",
       "\n",
       "                   96%           97%           98%           99%           max  \n",
       "age          62.000000     63.000000     63.000000     64.000000     64.000000  \n",
       "bmi          41.800000     42.455200     43.920800     46.335168     46.411200  \n",
       "children      3.000000      4.000000      4.000000      5.000000      5.000000  \n",
       "charges   42920.126232  44495.190584  46677.324238  48530.512736  48537.796878  "
      ]
     },
     "execution_count": 57,
     "metadata": {},
     "output_type": "execute_result"
    }
   ],
   "source": [
    "df.describe(percentiles=[0.01,0.02,0.03,0.05,0.95,0.96,0.97,0.98,0.99]).T"
   ]
  },
  {
   "cell_type": "markdown",
   "id": "1ea54edb",
   "metadata": {},
   "source": [
    "### Encoding Catagorical Columns"
   ]
  },
  {
   "cell_type": "code",
   "execution_count": 58,
   "id": "dcd0853e",
   "metadata": {},
   "outputs": [],
   "source": [
    "# encoding sex column\n",
    "df.replace({'sex':{'male':0,'female':1}}, inplace=True)    # male - 0, Female - 1\n",
    "\n",
    "3 # encoding 'smoker' column\n",
    "df.replace({'smoker':{'yes':0,'no':1}}, inplace=True)     # Yes - 0, no - 1\n",
    "\n",
    "# encoding 'region' column\n",
    "df.replace({'region':{'southeast':0,'southwest':1,'northeast':2,'northwest':3}}, inplace=True)   \n",
    "# Southeast - 0 , Southwest - 1 , Northeast - 2 , Northwest - 3"
   ]
  },
  {
   "cell_type": "markdown",
   "id": "f2dacfe6",
   "metadata": {},
   "source": [
    "### Selecting x and y"
   ]
  },
  {
   "cell_type": "code",
   "execution_count": 59,
   "id": "c6435c92",
   "metadata": {},
   "outputs": [
    {
     "name": "stdout",
     "output_type": "stream",
     "text": [
      "(1337, 6)\n",
      "(1337,)\n"
     ]
    }
   ],
   "source": [
    "x = df.drop('charges',axis = 1)\n",
    "y = df['charges']\n",
    "print(x.shape)\n",
    "print(y.shape)"
   ]
  },
  {
   "cell_type": "code",
   "execution_count": 64,
   "id": "33a09a1d",
   "metadata": {},
   "outputs": [],
   "source": [
    "from sklearn.model_selection import train_test_split"
   ]
  },
  {
   "cell_type": "code",
   "execution_count": 65,
   "id": "3cf3b51c",
   "metadata": {},
   "outputs": [
    {
     "name": "stdout",
     "output_type": "stream",
     "text": [
      "(1069, 6)\n",
      "(268, 6)\n",
      "(1069,)\n",
      "(268,)\n"
     ]
    }
   ],
   "source": [
    "x_train,x_test,y_train,y_test = train_test_split(x,y,test_size=0.2,random_state=8)\n",
    "print(x_train.shape)\n",
    "print(x_test.shape)\n",
    "print(y_train.shape)\n",
    "print(y_test.shape)"
   ]
  },
  {
   "cell_type": "markdown",
   "id": "fea42ced",
   "metadata": {},
   "source": [
    "### Linear Regression"
   ]
  },
  {
   "cell_type": "code",
   "execution_count": 66,
   "id": "3978c764",
   "metadata": {},
   "outputs": [],
   "source": [
    "from sklearn.metrics import mean_squared_error,mean_absolute_error,r2_score"
   ]
  },
  {
   "cell_type": "code",
   "execution_count": 71,
   "id": "a281ea60",
   "metadata": {},
   "outputs": [],
   "source": [
    "def eval_model(ytest,ypred):\n",
    "    mae = mean_absolute_error(ytest,ypred)\n",
    "    mse = mean_squared_error(ytest,ypred)\n",
    "    rmse = mean_squared_error(ytest,ypred,squared=False)\n",
    "    r2s = r2_score(ytest,ypred)\n",
    "    return {'MAE':mae,'MSE':mse,'RMSE':rmse}\n",
    "\n",
    "def model_res(model,x_train,x_test,y_train,y_test,ypred,mname):\n",
    "    train_r2 = model.score(x_train,y_train)\n",
    "    test_r2 = model.score(x_test,y_test)\n",
    "    w = eval_model(y_test,ypred)\n",
    "    res_metrics = {'Train_R2':train_r2,'Test_R2':test_r2,'Test_MSE':w['MSE'],\n",
    "                    'Test_RMSE':w['RMSE'],'Test_MAE':w['MAE']}\n",
    "    res = pd.DataFrame(res_metrics, index=[mname]) \n",
    "    return res, res_metrics"
   ]
  },
  {
   "cell_type": "code",
   "execution_count": 72,
   "id": "031ec69d",
   "metadata": {},
   "outputs": [],
   "source": [
    "from sklearn.linear_model import LinearRegression"
   ]
  },
  {
   "cell_type": "code",
   "execution_count": 73,
   "id": "0cfdb625",
   "metadata": {},
   "outputs": [
    {
     "data": {
      "text/plain": [
       "LinearRegression()"
      ]
     },
     "execution_count": 73,
     "metadata": {},
     "output_type": "execute_result"
    }
   ],
   "source": [
    "lr1 = LinearRegression()\n",
    "lr1.fit(x_train,y_train)"
   ]
  },
  {
   "cell_type": "code",
   "execution_count": 76,
   "id": "56c0da1c",
   "metadata": {},
   "outputs": [],
   "source": [
    "ypred_lr1 =  lr1.predict(x_test)"
   ]
  },
  {
   "cell_type": "code",
   "execution_count": 77,
   "id": "d4f1cf07",
   "metadata": {},
   "outputs": [
    {
     "data": {
      "text/html": [
       "<div>\n",
       "<style scoped>\n",
       "    .dataframe tbody tr th:only-of-type {\n",
       "        vertical-align: middle;\n",
       "    }\n",
       "\n",
       "    .dataframe tbody tr th {\n",
       "        vertical-align: top;\n",
       "    }\n",
       "\n",
       "    .dataframe thead th {\n",
       "        text-align: right;\n",
       "    }\n",
       "</style>\n",
       "<table border=\"1\" class=\"dataframe\">\n",
       "  <thead>\n",
       "    <tr style=\"text-align: right;\">\n",
       "      <th></th>\n",
       "      <th>Train_R2</th>\n",
       "      <th>Test_R2</th>\n",
       "      <th>Test_MSE</th>\n",
       "      <th>Test_RMSE</th>\n",
       "      <th>Test_MAE</th>\n",
       "    </tr>\n",
       "  </thead>\n",
       "  <tbody>\n",
       "    <tr>\n",
       "      <th>LinReg</th>\n",
       "      <td>0.765388</td>\n",
       "      <td>0.712752</td>\n",
       "      <td>4.154065e+07</td>\n",
       "      <td>6445.203343</td>\n",
       "      <td>4513.252745</td>\n",
       "    </tr>\n",
       "  </tbody>\n",
       "</table>\n",
       "</div>"
      ],
      "text/plain": [
       "        Train_R2   Test_R2      Test_MSE    Test_RMSE     Test_MAE\n",
       "LinReg  0.765388  0.712752  4.154065e+07  6445.203343  4513.252745"
      ]
     },
     "execution_count": 77,
     "metadata": {},
     "output_type": "execute_result"
    }
   ],
   "source": [
    "lr1_df,lr_res = model_res(lr1,x_train,x_test,y_train,y_test,ypred_lr1,'LinReg')\n",
    "lr1_df"
   ]
  },
  {
   "cell_type": "markdown",
   "id": "5b2473fd",
   "metadata": {},
   "source": [
    "### Decision Tree Regressor"
   ]
  },
  {
   "cell_type": "code",
   "execution_count": 78,
   "id": "c05487f3",
   "metadata": {},
   "outputs": [],
   "source": [
    "from sklearn.tree import DecisionTreeRegressor\n",
    "from sklearn.ensemble import RandomForestRegressor, AdaBoostRegressor"
   ]
  },
  {
   "cell_type": "code",
   "execution_count": 79,
   "id": "390b56d5",
   "metadata": {},
   "outputs": [
    {
     "data": {
      "text/plain": [
       "DecisionTreeRegressor(max_depth=8, min_samples_leaf=10, min_samples_split=10)"
      ]
     },
     "execution_count": 79,
     "metadata": {},
     "output_type": "execute_result"
    }
   ],
   "source": [
    "dt = DecisionTreeRegressor(max_depth=8,min_samples_split=10,min_samples_leaf=10)\n",
    "dt.fit(x_train,y_train)"
   ]
  },
  {
   "cell_type": "code",
   "execution_count": 80,
   "id": "8546b98f",
   "metadata": {},
   "outputs": [],
   "source": [
    "ypred_dt = dt.predict(x_test)"
   ]
  },
  {
   "cell_type": "code",
   "execution_count": 81,
   "id": "d19392da",
   "metadata": {},
   "outputs": [
    {
     "data": {
      "text/html": [
       "<div>\n",
       "<style scoped>\n",
       "    .dataframe tbody tr th:only-of-type {\n",
       "        vertical-align: middle;\n",
       "    }\n",
       "\n",
       "    .dataframe tbody tr th {\n",
       "        vertical-align: top;\n",
       "    }\n",
       "\n",
       "    .dataframe thead th {\n",
       "        text-align: right;\n",
       "    }\n",
       "</style>\n",
       "<table border=\"1\" class=\"dataframe\">\n",
       "  <thead>\n",
       "    <tr style=\"text-align: right;\">\n",
       "      <th></th>\n",
       "      <th>Train_R2</th>\n",
       "      <th>Test_R2</th>\n",
       "      <th>Test_MSE</th>\n",
       "      <th>Test_RMSE</th>\n",
       "      <th>Test_MAE</th>\n",
       "    </tr>\n",
       "  </thead>\n",
       "  <tbody>\n",
       "    <tr>\n",
       "      <th>DTree_Reg</th>\n",
       "      <td>0.900044</td>\n",
       "      <td>0.818146</td>\n",
       "      <td>2.629902e+07</td>\n",
       "      <td>5128.256657</td>\n",
       "      <td>2857.752113</td>\n",
       "    </tr>\n",
       "  </tbody>\n",
       "</table>\n",
       "</div>"
      ],
      "text/plain": [
       "           Train_R2   Test_R2      Test_MSE    Test_RMSE     Test_MAE\n",
       "DTree_Reg  0.900044  0.818146  2.629902e+07  5128.256657  2857.752113"
      ]
     },
     "execution_count": 81,
     "metadata": {},
     "output_type": "execute_result"
    }
   ],
   "source": [
    "dt_df,dt_res = model_res(dt,x_train,x_test,y_train,y_test,ypred_dt,'DTree_Reg')\n",
    "dt_df"
   ]
  },
  {
   "cell_type": "markdown",
   "id": "c6dc8f93",
   "metadata": {},
   "source": [
    "### Random Forest Regressor"
   ]
  },
  {
   "cell_type": "code",
   "execution_count": 82,
   "id": "6b9571f9",
   "metadata": {},
   "outputs": [
    {
     "data": {
      "text/plain": [
       "RandomForestRegressor(max_depth=10, min_samples_split=12, n_estimators=300)"
      ]
     },
     "execution_count": 82,
     "metadata": {},
     "output_type": "execute_result"
    }
   ],
   "source": [
    "rf = RandomForestRegressor(n_estimators=300,max_depth=10,min_samples_split=12)\n",
    "rf.fit(x_train,y_train)"
   ]
  },
  {
   "cell_type": "code",
   "execution_count": 83,
   "id": "b4bbd80f",
   "metadata": {},
   "outputs": [],
   "source": [
    "ypred_rf =  rf.predict(x_test)"
   ]
  },
  {
   "cell_type": "code",
   "execution_count": 84,
   "id": "e68cc3bd",
   "metadata": {},
   "outputs": [
    {
     "data": {
      "text/html": [
       "<div>\n",
       "<style scoped>\n",
       "    .dataframe tbody tr th:only-of-type {\n",
       "        vertical-align: middle;\n",
       "    }\n",
       "\n",
       "    .dataframe tbody tr th {\n",
       "        vertical-align: top;\n",
       "    }\n",
       "\n",
       "    .dataframe thead th {\n",
       "        text-align: right;\n",
       "    }\n",
       "</style>\n",
       "<table border=\"1\" class=\"dataframe\">\n",
       "  <thead>\n",
       "    <tr style=\"text-align: right;\">\n",
       "      <th></th>\n",
       "      <th>Train_R2</th>\n",
       "      <th>Test_R2</th>\n",
       "      <th>Test_MSE</th>\n",
       "      <th>Test_RMSE</th>\n",
       "      <th>Test_MAE</th>\n",
       "    </tr>\n",
       "  </thead>\n",
       "  <tbody>\n",
       "    <tr>\n",
       "      <th>RF_Reg</th>\n",
       "      <td>0.928748</td>\n",
       "      <td>0.833019</td>\n",
       "      <td>2.414814e+07</td>\n",
       "      <td>4914.075413</td>\n",
       "      <td>2688.155156</td>\n",
       "    </tr>\n",
       "  </tbody>\n",
       "</table>\n",
       "</div>"
      ],
      "text/plain": [
       "        Train_R2   Test_R2      Test_MSE    Test_RMSE     Test_MAE\n",
       "RF_Reg  0.928748  0.833019  2.414814e+07  4914.075413  2688.155156"
      ]
     },
     "execution_count": 84,
     "metadata": {},
     "output_type": "execute_result"
    }
   ],
   "source": [
    "rf_df,rf_res = model_res(rf,x_train,x_test,y_train,y_test,ypred_rf,'RF_Reg')\n",
    "rf_df"
   ]
  },
  {
   "cell_type": "code",
   "execution_count": 85,
   "id": "4c82dd4e",
   "metadata": {},
   "outputs": [
    {
     "data": {
      "text/plain": [
       "RandomForestRegressor(max_depth=9, min_samples_split=4, n_estimators=300)"
      ]
     },
     "execution_count": 85,
     "metadata": {},
     "output_type": "execute_result"
    }
   ],
   "source": [
    "rf2 = RandomForestRegressor(n_estimators=300,max_depth=9,min_samples_split=4)\n",
    "rf2.fit(x_train,y_train)"
   ]
  },
  {
   "cell_type": "code",
   "execution_count": 86,
   "id": "88442db7",
   "metadata": {},
   "outputs": [],
   "source": [
    "ypred_rf1 =  rf.predict(x_test)"
   ]
  },
  {
   "cell_type": "code",
   "execution_count": 87,
   "id": "f18be13f",
   "metadata": {},
   "outputs": [
    {
     "data": {
      "text/html": [
       "<div>\n",
       "<style scoped>\n",
       "    .dataframe tbody tr th:only-of-type {\n",
       "        vertical-align: middle;\n",
       "    }\n",
       "\n",
       "    .dataframe tbody tr th {\n",
       "        vertical-align: top;\n",
       "    }\n",
       "\n",
       "    .dataframe thead th {\n",
       "        text-align: right;\n",
       "    }\n",
       "</style>\n",
       "<table border=\"1\" class=\"dataframe\">\n",
       "  <thead>\n",
       "    <tr style=\"text-align: right;\">\n",
       "      <th></th>\n",
       "      <th>Train_R2</th>\n",
       "      <th>Test_R2</th>\n",
       "      <th>Test_MSE</th>\n",
       "      <th>Test_RMSE</th>\n",
       "      <th>Test_MAE</th>\n",
       "    </tr>\n",
       "  </thead>\n",
       "  <tbody>\n",
       "    <tr>\n",
       "      <th>RF_Reg1</th>\n",
       "      <td>0.954028</td>\n",
       "      <td>0.832237</td>\n",
       "      <td>2.414814e+07</td>\n",
       "      <td>4914.075413</td>\n",
       "      <td>2688.155156</td>\n",
       "    </tr>\n",
       "  </tbody>\n",
       "</table>\n",
       "</div>"
      ],
      "text/plain": [
       "         Train_R2   Test_R2      Test_MSE    Test_RMSE     Test_MAE\n",
       "RF_Reg1  0.954028  0.832237  2.414814e+07  4914.075413  2688.155156"
      ]
     },
     "execution_count": 87,
     "metadata": {},
     "output_type": "execute_result"
    }
   ],
   "source": [
    "rf_df1,rf_re1s = model_res(rf2,x_train,x_test,y_train,y_test,ypred_rf1,'RF_Reg1')\n",
    "rf_df1"
   ]
  },
  {
   "cell_type": "markdown",
   "id": "0fe3cffe",
   "metadata": {},
   "source": [
    "### AdaBoost Regressor"
   ]
  },
  {
   "cell_type": "code",
   "execution_count": 99,
   "id": "847fbc0d",
   "metadata": {},
   "outputs": [
    {
     "data": {
      "text/plain": [
       "AdaBoostRegressor(n_estimators=200, random_state=8)"
      ]
     },
     "execution_count": 99,
     "metadata": {},
     "output_type": "execute_result"
    }
   ],
   "source": [
    "ada = AdaBoostRegressor(n_estimators=200,random_state=8)\n",
    "ada.fit(x_train,y_train)"
   ]
  },
  {
   "cell_type": "code",
   "execution_count": 100,
   "id": "a1fe80a5",
   "metadata": {},
   "outputs": [],
   "source": [
    "ypred_ada = ada.predict(x_test)"
   ]
  },
  {
   "cell_type": "code",
   "execution_count": 101,
   "id": "a9228cbd",
   "metadata": {},
   "outputs": [
    {
     "data": {
      "text/html": [
       "<div>\n",
       "<style scoped>\n",
       "    .dataframe tbody tr th:only-of-type {\n",
       "        vertical-align: middle;\n",
       "    }\n",
       "\n",
       "    .dataframe tbody tr th {\n",
       "        vertical-align: top;\n",
       "    }\n",
       "\n",
       "    .dataframe thead th {\n",
       "        text-align: right;\n",
       "    }\n",
       "</style>\n",
       "<table border=\"1\" class=\"dataframe\">\n",
       "  <thead>\n",
       "    <tr style=\"text-align: right;\">\n",
       "      <th></th>\n",
       "      <th>Train_R2</th>\n",
       "      <th>Test_R2</th>\n",
       "      <th>Test_MSE</th>\n",
       "      <th>Test_RMSE</th>\n",
       "      <th>Test_MAE</th>\n",
       "    </tr>\n",
       "  </thead>\n",
       "  <tbody>\n",
       "    <tr>\n",
       "      <th>AdaBoost_Reg</th>\n",
       "      <td>0.847265</td>\n",
       "      <td>0.812825</td>\n",
       "      <td>2.706857e+07</td>\n",
       "      <td>5202.746811</td>\n",
       "      <td>3977.636982</td>\n",
       "    </tr>\n",
       "  </tbody>\n",
       "</table>\n",
       "</div>"
      ],
      "text/plain": [
       "              Train_R2   Test_R2      Test_MSE    Test_RMSE     Test_MAE\n",
       "AdaBoost_Reg  0.847265  0.812825  2.706857e+07  5202.746811  3977.636982"
      ]
     },
     "execution_count": 101,
     "metadata": {},
     "output_type": "execute_result"
    }
   ],
   "source": [
    "ada_df,ada_res = model_res(ada,x_train,x_test,y_train,y_test,ypred_ada,'AdaBoost_Reg')\n",
    "ada_df"
   ]
  },
  {
   "cell_type": "markdown",
   "id": "a688f474",
   "metadata": {},
   "source": [
    "### XG Boost"
   ]
  },
  {
   "cell_type": "code",
   "execution_count": 91,
   "id": "b6ad65ca",
   "metadata": {},
   "outputs": [],
   "source": [
    "from xgboost import XGBRegressor"
   ]
  },
  {
   "cell_type": "code",
   "execution_count": 92,
   "id": "aa5cf994",
   "metadata": {},
   "outputs": [
    {
     "data": {
      "text/plain": [
       "XGBRegressor(base_score=None, booster=None, callbacks=None,\n",
       "             colsample_bylevel=None, colsample_bynode=None,\n",
       "             colsample_bytree=None, device=None, early_stopping_rounds=None,\n",
       "             enable_categorical=False, eval_metric=None, feature_types=None,\n",
       "             gamma=None, grow_policy=None, importance_type=None,\n",
       "             interaction_constraints=None, learning_rate=None, max_bin=None,\n",
       "             max_cat_threshold=None, max_cat_to_onehot=None,\n",
       "             max_delta_step=None, max_depth=None, max_leaves=None,\n",
       "             min_child_weight=None, missing=nan, monotone_constraints=None,\n",
       "             multi_strategy=None, n_estimators=None, n_jobs=None,\n",
       "             num_parallel_tree=None, random_state=None, ...)"
      ]
     },
     "execution_count": 92,
     "metadata": {},
     "output_type": "execute_result"
    }
   ],
   "source": [
    "xgb1 = XGBRegressor()\n",
    "xgb1.fit(x_train,y_train)"
   ]
  },
  {
   "cell_type": "code",
   "execution_count": 93,
   "id": "2585e836",
   "metadata": {},
   "outputs": [],
   "source": [
    "ypred_xgb1 = xgb1.predict(x_test)"
   ]
  },
  {
   "cell_type": "code",
   "execution_count": 94,
   "id": "f713ba46",
   "metadata": {},
   "outputs": [
    {
     "data": {
      "text/html": [
       "<div>\n",
       "<style scoped>\n",
       "    .dataframe tbody tr th:only-of-type {\n",
       "        vertical-align: middle;\n",
       "    }\n",
       "\n",
       "    .dataframe tbody tr th {\n",
       "        vertical-align: top;\n",
       "    }\n",
       "\n",
       "    .dataframe thead th {\n",
       "        text-align: right;\n",
       "    }\n",
       "</style>\n",
       "<table border=\"1\" class=\"dataframe\">\n",
       "  <thead>\n",
       "    <tr style=\"text-align: right;\">\n",
       "      <th></th>\n",
       "      <th>Train_R2</th>\n",
       "      <th>Test_R2</th>\n",
       "      <th>Test_MSE</th>\n",
       "      <th>Test_RMSE</th>\n",
       "      <th>Test_MAE</th>\n",
       "    </tr>\n",
       "  </thead>\n",
       "  <tbody>\n",
       "    <tr>\n",
       "      <th>XGBoost_Reg</th>\n",
       "      <td>0.997549</td>\n",
       "      <td>0.77834</td>\n",
       "      <td>3.205566e+07</td>\n",
       "      <td>5661.771519</td>\n",
       "      <td>3214.717181</td>\n",
       "    </tr>\n",
       "  </tbody>\n",
       "</table>\n",
       "</div>"
      ],
      "text/plain": [
       "             Train_R2  Test_R2      Test_MSE    Test_RMSE     Test_MAE\n",
       "XGBoost_Reg  0.997549  0.77834  3.205566e+07  5661.771519  3214.717181"
      ]
     },
     "execution_count": 94,
     "metadata": {},
     "output_type": "execute_result"
    }
   ],
   "source": [
    "xgb_df,xgb_res = model_res(xgb1,x_train,x_test,y_train,y_test,ypred_xgb1,'XGBoost_Reg')\n",
    "xgb_df"
   ]
  },
  {
   "cell_type": "markdown",
   "id": "6919a394",
   "metadata": {},
   "source": [
    "### Concat"
   ]
  },
  {
   "cell_type": "code",
   "execution_count": 95,
   "id": "c3926cd5",
   "metadata": {},
   "outputs": [
    {
     "data": {
      "text/html": [
       "<div>\n",
       "<style scoped>\n",
       "    .dataframe tbody tr th:only-of-type {\n",
       "        vertical-align: middle;\n",
       "    }\n",
       "\n",
       "    .dataframe tbody tr th {\n",
       "        vertical-align: top;\n",
       "    }\n",
       "\n",
       "    .dataframe thead th {\n",
       "        text-align: right;\n",
       "    }\n",
       "</style>\n",
       "<table border=\"1\" class=\"dataframe\">\n",
       "  <thead>\n",
       "    <tr style=\"text-align: right;\">\n",
       "      <th></th>\n",
       "      <th>Train_R2</th>\n",
       "      <th>Test_R2</th>\n",
       "      <th>Test_MSE</th>\n",
       "      <th>Test_RMSE</th>\n",
       "      <th>Test_MAE</th>\n",
       "    </tr>\n",
       "  </thead>\n",
       "  <tbody>\n",
       "    <tr>\n",
       "      <th>LinReg</th>\n",
       "      <td>0.765388</td>\n",
       "      <td>0.712752</td>\n",
       "      <td>4.154065e+07</td>\n",
       "      <td>6445.203343</td>\n",
       "      <td>4513.252745</td>\n",
       "    </tr>\n",
       "    <tr>\n",
       "      <th>DTree_Reg</th>\n",
       "      <td>0.900044</td>\n",
       "      <td>0.818146</td>\n",
       "      <td>2.629902e+07</td>\n",
       "      <td>5128.256657</td>\n",
       "      <td>2857.752113</td>\n",
       "    </tr>\n",
       "    <tr>\n",
       "      <th>RF_Reg</th>\n",
       "      <td>0.928748</td>\n",
       "      <td>0.833019</td>\n",
       "      <td>2.414814e+07</td>\n",
       "      <td>4914.075413</td>\n",
       "      <td>2688.155156</td>\n",
       "    </tr>\n",
       "    <tr>\n",
       "      <th>AdaBoost_Reg</th>\n",
       "      <td>0.847637</td>\n",
       "      <td>0.813108</td>\n",
       "      <td>2.702760e+07</td>\n",
       "      <td>5198.807228</td>\n",
       "      <td>3936.440671</td>\n",
       "    </tr>\n",
       "    <tr>\n",
       "      <th>XGBoost_Reg</th>\n",
       "      <td>0.997549</td>\n",
       "      <td>0.778340</td>\n",
       "      <td>3.205566e+07</td>\n",
       "      <td>5661.771519</td>\n",
       "      <td>3214.717181</td>\n",
       "    </tr>\n",
       "    <tr>\n",
       "      <th>RF_Reg1</th>\n",
       "      <td>0.954028</td>\n",
       "      <td>0.832237</td>\n",
       "      <td>2.414814e+07</td>\n",
       "      <td>4914.075413</td>\n",
       "      <td>2688.155156</td>\n",
       "    </tr>\n",
       "  </tbody>\n",
       "</table>\n",
       "</div>"
      ],
      "text/plain": [
       "              Train_R2   Test_R2      Test_MSE    Test_RMSE     Test_MAE\n",
       "LinReg        0.765388  0.712752  4.154065e+07  6445.203343  4513.252745\n",
       "DTree_Reg     0.900044  0.818146  2.629902e+07  5128.256657  2857.752113\n",
       "RF_Reg        0.928748  0.833019  2.414814e+07  4914.075413  2688.155156\n",
       "AdaBoost_Reg  0.847637  0.813108  2.702760e+07  5198.807228  3936.440671\n",
       "XGBoost_Reg   0.997549  0.778340  3.205566e+07  5661.771519  3214.717181\n",
       "RF_Reg1       0.954028  0.832237  2.414814e+07  4914.075413  2688.155156"
      ]
     },
     "execution_count": 95,
     "metadata": {},
     "output_type": "execute_result"
    }
   ],
   "source": [
    "all_res = pd.concat([lr1_df,dt_df,rf_df,ada_df,xgb_df,rf_df1])\n",
    "all_res"
   ]
  },
  {
   "cell_type": "markdown",
   "id": "69f20d0a",
   "metadata": {},
   "source": [
    "### Applying hyperparameter Tuning For Random Forest"
   ]
  },
  {
   "cell_type": "code",
   "execution_count": 102,
   "id": "d186cf54",
   "metadata": {},
   "outputs": [],
   "source": [
    "from sklearn.model_selection import GridSearchCV, RandomizedSearchCV"
   ]
  },
  {
   "cell_type": "code",
   "execution_count": 104,
   "id": "7136ce8c",
   "metadata": {},
   "outputs": [],
   "source": [
    "params_rf = {'n_estimators':[200,220,240,260,280,300,320,350,400,450,500],\n",
    "            'max_depth':[9,10,11,12],\n",
    "            'min_samples_split':[2,3,4,5]}"
   ]
  },
  {
   "cell_type": "code",
   "execution_count": 105,
   "id": "37daf56b",
   "metadata": {},
   "outputs": [
    {
     "data": {
      "text/plain": [
       "GridSearchCV(cv=5, estimator=RandomForestRegressor(random_state=42),\n",
       "             param_grid={'max_depth': [9, 10, 11, 12],\n",
       "                         'min_samples_split': [2, 3, 4, 5],\n",
       "                         'n_estimators': [200, 220, 240, 260, 280, 300, 320,\n",
       "                                          350, 400, 450, 500]},\n",
       "             scoring='r2')"
      ]
     },
     "execution_count": 105,
     "metadata": {},
     "output_type": "execute_result"
    }
   ],
   "source": [
    "rf_base = RandomForestRegressor(random_state=42)\n",
    "rs_rf1 = GridSearchCV(estimator=rf_base,param_grid= params_rf,scoring='r2',cv=5)\n",
    "rs_rf1.fit(x_train,y_train)"
   ]
  },
  {
   "cell_type": "code",
   "execution_count": 106,
   "id": "81551443",
   "metadata": {},
   "outputs": [
    {
     "name": "stdout",
     "output_type": "stream",
     "text": [
      "RandomForestRegressor(max_depth=9, min_samples_split=5, n_estimators=450,\n",
      "                      random_state=42)\n",
      "{'max_depth': 9, 'min_samples_split': 5, 'n_estimators': 450}\n",
      "0.8601261484687337\n"
     ]
    }
   ],
   "source": [
    "print(rs_rf1.best_estimator_)\n",
    "print(rs_rf1.best_params_)\n",
    "print(rs_rf1.best_score_)"
   ]
  },
  {
   "cell_type": "code",
   "execution_count": 107,
   "id": "308c709d",
   "metadata": {},
   "outputs": [
    {
     "data": {
      "text/plain": [
       "RandomForestRegressor(max_depth=9, min_samples_split=5, n_estimators=450)"
      ]
     },
     "execution_count": 107,
     "metadata": {},
     "output_type": "execute_result"
    }
   ],
   "source": [
    "rf2 = RandomForestRegressor(**rs_rf1.best_params_)\n",
    "rf2.fit(x_train,y_train)"
   ]
  },
  {
   "cell_type": "code",
   "execution_count": 108,
   "id": "4046b85a",
   "metadata": {},
   "outputs": [],
   "source": [
    "ypred_rf2 =  rf.predict(x_test)"
   ]
  },
  {
   "cell_type": "code",
   "execution_count": 109,
   "id": "241a07b2",
   "metadata": {},
   "outputs": [
    {
     "data": {
      "text/html": [
       "<div>\n",
       "<style scoped>\n",
       "    .dataframe tbody tr th:only-of-type {\n",
       "        vertical-align: middle;\n",
       "    }\n",
       "\n",
       "    .dataframe tbody tr th {\n",
       "        vertical-align: top;\n",
       "    }\n",
       "\n",
       "    .dataframe thead th {\n",
       "        text-align: right;\n",
       "    }\n",
       "</style>\n",
       "<table border=\"1\" class=\"dataframe\">\n",
       "  <thead>\n",
       "    <tr style=\"text-align: right;\">\n",
       "      <th></th>\n",
       "      <th>Train_R2</th>\n",
       "      <th>Test_R2</th>\n",
       "      <th>Test_MSE</th>\n",
       "      <th>Test_RMSE</th>\n",
       "      <th>Test_MAE</th>\n",
       "    </tr>\n",
       "  </thead>\n",
       "  <tbody>\n",
       "    <tr>\n",
       "      <th>RF_Reg2</th>\n",
       "      <td>0.949646</td>\n",
       "      <td>0.832328</td>\n",
       "      <td>2.414814e+07</td>\n",
       "      <td>4914.075413</td>\n",
       "      <td>2688.155156</td>\n",
       "    </tr>\n",
       "  </tbody>\n",
       "</table>\n",
       "</div>"
      ],
      "text/plain": [
       "         Train_R2   Test_R2      Test_MSE    Test_RMSE     Test_MAE\n",
       "RF_Reg2  0.949646  0.832328  2.414814e+07  4914.075413  2688.155156"
      ]
     },
     "execution_count": 109,
     "metadata": {},
     "output_type": "execute_result"
    }
   ],
   "source": [
    "rf_df2,rf_res2 = model_res(rf2,x_train,x_test,y_train,y_test,ypred_rf1,'RF_Reg2')\n",
    "rf_df2"
   ]
  },
  {
   "cell_type": "code",
   "execution_count": 110,
   "id": "369db9ae",
   "metadata": {},
   "outputs": [
    {
     "data": {
      "text/html": [
       "<div>\n",
       "<style scoped>\n",
       "    .dataframe tbody tr th:only-of-type {\n",
       "        vertical-align: middle;\n",
       "    }\n",
       "\n",
       "    .dataframe tbody tr th {\n",
       "        vertical-align: top;\n",
       "    }\n",
       "\n",
       "    .dataframe thead th {\n",
       "        text-align: right;\n",
       "    }\n",
       "</style>\n",
       "<table border=\"1\" class=\"dataframe\">\n",
       "  <thead>\n",
       "    <tr style=\"text-align: right;\">\n",
       "      <th></th>\n",
       "      <th>Train_R2</th>\n",
       "      <th>Test_R2</th>\n",
       "      <th>Test_MSE</th>\n",
       "      <th>Test_RMSE</th>\n",
       "      <th>Test_MAE</th>\n",
       "    </tr>\n",
       "  </thead>\n",
       "  <tbody>\n",
       "    <tr>\n",
       "      <th>LinReg</th>\n",
       "      <td>0.765388</td>\n",
       "      <td>0.712752</td>\n",
       "      <td>4.154065e+07</td>\n",
       "      <td>6445.203343</td>\n",
       "      <td>4513.252745</td>\n",
       "    </tr>\n",
       "    <tr>\n",
       "      <th>DTree_Reg</th>\n",
       "      <td>0.900044</td>\n",
       "      <td>0.818146</td>\n",
       "      <td>2.629902e+07</td>\n",
       "      <td>5128.256657</td>\n",
       "      <td>2857.752113</td>\n",
       "    </tr>\n",
       "    <tr>\n",
       "      <th>RF_Reg</th>\n",
       "      <td>0.928748</td>\n",
       "      <td>0.833019</td>\n",
       "      <td>2.414814e+07</td>\n",
       "      <td>4914.075413</td>\n",
       "      <td>2688.155156</td>\n",
       "    </tr>\n",
       "    <tr>\n",
       "      <th>AdaBoost_Reg</th>\n",
       "      <td>0.847265</td>\n",
       "      <td>0.812825</td>\n",
       "      <td>2.706857e+07</td>\n",
       "      <td>5202.746811</td>\n",
       "      <td>3977.636982</td>\n",
       "    </tr>\n",
       "    <tr>\n",
       "      <th>XGBoost_Reg</th>\n",
       "      <td>0.997549</td>\n",
       "      <td>0.778340</td>\n",
       "      <td>3.205566e+07</td>\n",
       "      <td>5661.771519</td>\n",
       "      <td>3214.717181</td>\n",
       "    </tr>\n",
       "    <tr>\n",
       "      <th>RF_Reg1</th>\n",
       "      <td>0.954028</td>\n",
       "      <td>0.832237</td>\n",
       "      <td>2.414814e+07</td>\n",
       "      <td>4914.075413</td>\n",
       "      <td>2688.155156</td>\n",
       "    </tr>\n",
       "    <tr>\n",
       "      <th>RF_Reg2</th>\n",
       "      <td>0.949646</td>\n",
       "      <td>0.832328</td>\n",
       "      <td>2.414814e+07</td>\n",
       "      <td>4914.075413</td>\n",
       "      <td>2688.155156</td>\n",
       "    </tr>\n",
       "  </tbody>\n",
       "</table>\n",
       "</div>"
      ],
      "text/plain": [
       "              Train_R2   Test_R2      Test_MSE    Test_RMSE     Test_MAE\n",
       "LinReg        0.765388  0.712752  4.154065e+07  6445.203343  4513.252745\n",
       "DTree_Reg     0.900044  0.818146  2.629902e+07  5128.256657  2857.752113\n",
       "RF_Reg        0.928748  0.833019  2.414814e+07  4914.075413  2688.155156\n",
       "AdaBoost_Reg  0.847265  0.812825  2.706857e+07  5202.746811  3977.636982\n",
       "XGBoost_Reg   0.997549  0.778340  3.205566e+07  5661.771519  3214.717181\n",
       "RF_Reg1       0.954028  0.832237  2.414814e+07  4914.075413  2688.155156\n",
       "RF_Reg2       0.949646  0.832328  2.414814e+07  4914.075413  2688.155156"
      ]
     },
     "execution_count": 110,
     "metadata": {},
     "output_type": "execute_result"
    }
   ],
   "source": [
    "all_res = pd.concat([lr1_df,dt_df,rf_df,ada_df,xgb_df,rf_df1,rf_df2])\n",
    "all_res"
   ]
  },
  {
   "cell_type": "code",
   "execution_count": 115,
   "id": "b1ab7d92",
   "metadata": {},
   "outputs": [
    {
     "data": {
      "text/html": [
       "<div>\n",
       "<style scoped>\n",
       "    .dataframe tbody tr th:only-of-type {\n",
       "        vertical-align: middle;\n",
       "    }\n",
       "\n",
       "    .dataframe tbody tr th {\n",
       "        vertical-align: top;\n",
       "    }\n",
       "\n",
       "    .dataframe thead th {\n",
       "        text-align: right;\n",
       "    }\n",
       "</style>\n",
       "<table border=\"1\" class=\"dataframe\">\n",
       "  <thead>\n",
       "    <tr style=\"text-align: right;\">\n",
       "      <th></th>\n",
       "      <th>Actual_y_test</th>\n",
       "      <th>Pred</th>\n",
       "    </tr>\n",
       "  </thead>\n",
       "  <tbody>\n",
       "    <tr>\n",
       "      <th>752</th>\n",
       "      <td>14210.53595</td>\n",
       "      <td>14572.441591</td>\n",
       "    </tr>\n",
       "    <tr>\n",
       "      <th>529</th>\n",
       "      <td>1708.00140</td>\n",
       "      <td>1802.305191</td>\n",
       "    </tr>\n",
       "    <tr>\n",
       "      <th>1301</th>\n",
       "      <td>46718.16325</td>\n",
       "      <td>45465.706751</td>\n",
       "    </tr>\n",
       "    <tr>\n",
       "      <th>9</th>\n",
       "      <td>28923.13692</td>\n",
       "      <td>14264.641478</td>\n",
       "    </tr>\n",
       "    <tr>\n",
       "      <th>308</th>\n",
       "      <td>11944.59435</td>\n",
       "      <td>11867.956772</td>\n",
       "    </tr>\n",
       "    <tr>\n",
       "      <th>1284</th>\n",
       "      <td>47403.88000</td>\n",
       "      <td>47572.378655</td>\n",
       "    </tr>\n",
       "    <tr>\n",
       "      <th>734</th>\n",
       "      <td>14007.22200</td>\n",
       "      <td>14982.576439</td>\n",
       "    </tr>\n",
       "    <tr>\n",
       "      <th>847</th>\n",
       "      <td>2438.05520</td>\n",
       "      <td>5190.237204</td>\n",
       "    </tr>\n",
       "    <tr>\n",
       "      <th>253</th>\n",
       "      <td>4260.74400</td>\n",
       "      <td>4979.412760</td>\n",
       "    </tr>\n",
       "    <tr>\n",
       "      <th>1025</th>\n",
       "      <td>2020.17700</td>\n",
       "      <td>2006.861648</td>\n",
       "    </tr>\n",
       "    <tr>\n",
       "      <th>913</th>\n",
       "      <td>7626.99300</td>\n",
       "      <td>8447.301307</td>\n",
       "    </tr>\n",
       "    <tr>\n",
       "      <th>518</th>\n",
       "      <td>5240.76500</td>\n",
       "      <td>5474.194142</td>\n",
       "    </tr>\n",
       "    <tr>\n",
       "      <th>1216</th>\n",
       "      <td>5415.66120</td>\n",
       "      <td>6351.929599</td>\n",
       "    </tr>\n",
       "    <tr>\n",
       "      <th>574</th>\n",
       "      <td>13224.05705</td>\n",
       "      <td>13368.346429</td>\n",
       "    </tr>\n",
       "    <tr>\n",
       "      <th>397</th>\n",
       "      <td>16586.49771</td>\n",
       "      <td>1537.241398</td>\n",
       "    </tr>\n",
       "    <tr>\n",
       "      <th>117</th>\n",
       "      <td>19107.77960</td>\n",
       "      <td>18827.193014</td>\n",
       "    </tr>\n",
       "    <tr>\n",
       "      <th>336</th>\n",
       "      <td>12142.57860</td>\n",
       "      <td>15361.926255</td>\n",
       "    </tr>\n",
       "    <tr>\n",
       "      <th>61</th>\n",
       "      <td>4504.66240</td>\n",
       "      <td>5730.122542</td>\n",
       "    </tr>\n",
       "    <tr>\n",
       "      <th>1092</th>\n",
       "      <td>3591.48000</td>\n",
       "      <td>4811.556965</td>\n",
       "    </tr>\n",
       "    <tr>\n",
       "      <th>568</th>\n",
       "      <td>11552.90400</td>\n",
       "      <td>10861.008429</td>\n",
       "    </tr>\n",
       "  </tbody>\n",
       "</table>\n",
       "</div>"
      ],
      "text/plain": [
       "      Actual_y_test          Pred\n",
       "752     14210.53595  14572.441591\n",
       "529      1708.00140   1802.305191\n",
       "1301    46718.16325  45465.706751\n",
       "9       28923.13692  14264.641478\n",
       "308     11944.59435  11867.956772\n",
       "1284    47403.88000  47572.378655\n",
       "734     14007.22200  14982.576439\n",
       "847      2438.05520   5190.237204\n",
       "253      4260.74400   4979.412760\n",
       "1025     2020.17700   2006.861648\n",
       "913      7626.99300   8447.301307\n",
       "518      5240.76500   5474.194142\n",
       "1216     5415.66120   6351.929599\n",
       "574     13224.05705  13368.346429\n",
       "397     16586.49771   1537.241398\n",
       "117     19107.77960  18827.193014\n",
       "336     12142.57860  15361.926255\n",
       "61       4504.66240   5730.122542\n",
       "1092     3591.48000   4811.556965\n",
       "568     11552.90400  10861.008429"
      ]
     },
     "execution_count": 115,
     "metadata": {},
     "output_type": "execute_result"
    }
   ],
   "source": [
    "actual_ypred_rf1 = ypred_rf1    \n",
    "\n",
    "res_df = pd.DataFrame({'Actual_y_test':y_test,'Pred':actual_ypred_rf1})\n",
    "res_df.sample(20)"
   ]
  },
  {
   "cell_type": "markdown",
   "id": "afe82a1c",
   "metadata": {},
   "source": [
    "## This is how we can use Machine Learning algorithm for Medical Insurance Cost Prediction"
   ]
  }
 ],
 "metadata": {
  "kernelspec": {
   "display_name": "Python 3 (ipykernel)",
   "language": "python",
   "name": "python3"
  },
  "language_info": {
   "codemirror_mode": {
    "name": "ipython",
    "version": 3
   },
   "file_extension": ".py",
   "mimetype": "text/x-python",
   "name": "python",
   "nbconvert_exporter": "python",
   "pygments_lexer": "ipython3",
   "version": "3.9.13"
  }
 },
 "nbformat": 4,
 "nbformat_minor": 5
}
